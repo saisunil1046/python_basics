{
  "nbformat": 4,
  "nbformat_minor": 0,
  "metadata": {
    "colab": {
      "provenance": [],
      "authorship_tag": "ABX9TyNHGs0YXmtURFagV8oua7f0"
    },
    "kernelspec": {
      "name": "python3",
      "display_name": "Python 3"
    },
    "language_info": {
      "name": "python"
    }
  },
  "cells": [
    {
      "cell_type": "code",
      "execution_count": null,
      "metadata": {
        "colab": {
          "base_uri": "https://localhost:8080/"
        },
        "id": "284b6bCrCy3X",
        "outputId": "c1cc0a81-6081-4fa2-f87a-b14214d0c7d4"
      },
      "outputs": [
        {
          "output_type": "stream",
          "name": "stdout",
          "text": [
            "223823\n"
          ]
        }
      ],
      "source": [
        "from random import *\n",
        "print(randint(0,9),randint(0,9),randint(0,9),randint(0,9),randint(0,9),randint(0,9),sep='') # generates 6 digit random number without spaces\n"
      ]
    },
    {
      "cell_type": "code",
      "source": [
        "otp=''\n",
        "for i in range(6):\n",
        "  otp = otp + str(randint(0,9)) # string conversion of randint is needed bcoz while adding the value to the otp variable it should be a string element.\n",
        "\n",
        "print(\"6 digit OTP is : \",otp)"
      ],
      "metadata": {
        "colab": {
          "base_uri": "https://localhost:8080/"
        },
        "id": "m3qBwxiIDl0K",
        "outputId": "1bf19abc-a3b2-4b02-cf3c-001987f8b47a"
      },
      "execution_count": null,
      "outputs": [
        {
          "output_type": "stream",
          "name": "stdout",
          "text": [
            "6 digit OTP is :  790130\n"
          ]
        }
      ]
    }
  ]
}