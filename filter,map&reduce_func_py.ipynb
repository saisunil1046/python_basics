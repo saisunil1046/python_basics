{
  "nbformat": 4,
  "nbformat_minor": 0,
  "metadata": {
    "colab": {
      "provenance": [],
      "authorship_tag": "ABX9TyPwKHyLtQjT9HTgQsIsaoa4",
      "include_colab_link": true
    },
    "kernelspec": {
      "name": "python3",
      "display_name": "Python 3"
    },
    "language_info": {
      "name": "python"
    }
  },
  "cells": [
    {
      "cell_type": "markdown",
      "metadata": {
        "id": "view-in-github",
        "colab_type": "text"
      },
      "source": [
        "<a href=\"https://colab.research.google.com/github/saisunil1046/python_basics/blob/main/filter%2Cmap%26reduce_func_py.ipynb\" target=\"_parent\"><img src=\"https://colab.research.google.com/assets/colab-badge.svg\" alt=\"Open In Colab\"/></a>"
      ]
    },
    {
      "cell_type": "code",
      "execution_count": null,
      "metadata": {
        "colab": {
          "base_uri": "https://localhost:8080/"
        },
        "id": "GNd7hyWVYI9v",
        "outputId": "f5b0c484-1e54-4fc8-9b31-39abd5f64ca2"
      },
      "outputs": [
        {
          "output_type": "stream",
          "name": "stdout",
          "text": [
            "<filter object at 0x7e153122a350>\n",
            "[0, 2, 4, 6, 8]\n"
          ]
        }
      ],
      "source": [
        "#We can pass a function as argument to another function using filter, map and reduce functions\n",
        "#Find out even numbers using filter() function without using lambda\n",
        "def even(n):\n",
        "  if n%2 == 0:\n",
        "    return True\n",
        "  else:\n",
        "    return False\n",
        "\n",
        "#filter syntax : filter(function,input_sequence)\n",
        "n=[0,1,2,3,4,5,6,7,8,9]\n",
        "l1 = filter(even,n)\n",
        "print(l1) #which provides the type of filter function which itself is a funcion object\n",
        "l1 = list(filter(even,n))\n",
        "print(l1) # we need to convert to list from func object to get the results\n"
      ]
    },
    {
      "cell_type": "code",
      "source": [
        "#Find out even numbers using filter() function with using lambda\n",
        "n=[0,1,2,3,4,5,6,7,8,9]\n",
        "l1 = list(filter(lambda n:n%2 == 0,n)) #using lambda func argument we can easily find the even numbers without writing even func and call it as a argument\n",
        "print(l1)\n",
        "odd = list(filter(lambda n:n%2 != 0,n))\n",
        "print(odd)"
      ],
      "metadata": {
        "colab": {
          "base_uri": "https://localhost:8080/"
        },
        "id": "bDuigcJAZiB2",
        "outputId": "0c22c21e-521a-457e-b5d9-cb38455037e3"
      },
      "execution_count": null,
      "outputs": [
        {
          "output_type": "stream",
          "name": "stdout",
          "text": [
            "[0, 2, 4, 6, 8]\n",
            "[1, 3, 5, 7, 9]\n"
          ]
        }
      ]
    },
    {
      "cell_type": "code",
      "source": [
        "#map function will generate new value by performing some operation\n",
        "n=[1,2,3,4,5]\n",
        "l1 = map(lambda n:n*n,n)\n",
        "print(l1) # gives map object same like filter func\n",
        "l1 = list(map(lambda n:n*n,n))\n",
        "print(l1)\n",
        "\n",
        "#for multiple input sequences also map func is applicable\n",
        "n1 = [1,2,3,4,5]\n",
        "n2 = [6,7,8,9,10]\n",
        "\n",
        "n3 = list(map(lambda x,y:x*y,n1,n2))\n",
        "print(n3)\n",
        "\n",
        "#even both sequences having different length but only upto common length the given operation will work\n",
        "\n",
        "n1 = [1,2,3,4,5,6]\n",
        "n2 = [6,7,8,9,10,20,30,40]\n",
        "\n",
        "n3 = list(map(lambda x,y:x*y,n1,n2))\n",
        "print(n3)\n",
        "\n",
        "#multiple sequence input\n",
        "\n",
        "n1 = [1,2,3,4,5,6]\n",
        "n2 = [6,7,8,9,10,20]\n",
        "n3 = [10,20,30,40,50]\n",
        "\n",
        "n4 = list(map(lambda x,y,z:x+y+z,n1,n2,n3))\n",
        "print(n4)"
      ],
      "metadata": {
        "colab": {
          "base_uri": "https://localhost:8080/"
        },
        "id": "M2qt36D8cZDX",
        "outputId": "268840a9-ac65-42e7-ff75-88a7cf905d94"
      },
      "execution_count": null,
      "outputs": [
        {
          "output_type": "stream",
          "name": "stdout",
          "text": [
            "<map object at 0x7e14ff5fff10>\n",
            "[1, 4, 9, 16, 25]\n",
            "[6, 14, 24, 36, 50]\n",
            "[6, 14, 24, 36, 50, 120]\n",
            "[17, 29, 41, 53, 65]\n"
          ]
        }
      ]
    },
    {
      "cell_type": "code",
      "source": [
        "#reduce() func reduces sequence of elements into single element by applying specified function\n",
        "#reduce(func,sequence)\n",
        "#Note: reduce func is not inbuilt python function we have to import explicitly from functools module\n",
        "from functools import reduce\n",
        "l=[10,20,30,40]\n",
        "result = reduce(lambda x,y:x+y,l)\n",
        "print(\"sum of list:\",result)\n",
        "l=[10,20,30,40]\n",
        "result = reduce(lambda x,y:x*y,l)\n",
        "print(\"multiply of list:\",result)\n",
        "\n",
        "#sum of first 100 numbers by using reduce() func\n",
        "result = reduce(lambda x,y:x+y, range(0,101))\n",
        "print(\"sum of first 100 numbers:\",result)"
      ],
      "metadata": {
        "colab": {
          "base_uri": "https://localhost:8080/"
        },
        "id": "iOrTMm8WeYzo",
        "outputId": "3a77e34d-0be3-4647-a1f2-75c8830bf006"
      },
      "execution_count": null,
      "outputs": [
        {
          "output_type": "stream",
          "name": "stdout",
          "text": [
            "sum of list: 100\n",
            "multiply of list: 240000\n",
            "sum of first 100 numbers: 5050\n"
          ]
        }
      ]
    }
  ]
}