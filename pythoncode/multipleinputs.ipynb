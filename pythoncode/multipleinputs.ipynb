{
  "nbformat": 4,
  "nbformat_minor": 0,
  "metadata": {
    "colab": {
      "provenance": [],
      "authorship_tag": "ABX9TyMJqBIdBotxdIsPux0WZb33"
    },
    "kernelspec": {
      "name": "python3",
      "display_name": "Python 3"
    },
    "language_info": {
      "name": "python"
    }
  },
  "cells": [
    {
      "cell_type": "code",
      "execution_count": null,
      "metadata": {
        "colab": {
          "base_uri": "https://localhost:8080/"
        },
        "id": "L26e4JGTIZzG",
        "outputId": "096bd883-083d-4f79-cabd-c0d9bb7a659e"
      },
      "outputs": [
        {
          "output_type": "stream",
          "name": "stdout",
          "text": [
            "enter 2 numbers:10 20\n",
            "the sum of 2 numbers is: 30\n",
            "enter 3 numbers:10.5 20.5 30.5\n",
            "the sum of 3 numbers is: 61.5\n"
          ]
        }
      ],
      "source": [
        "a,b = [int(x) for x in input('enter 2 numbers:').split()]\n",
        "print('the sum of 2 numbers is:',a+b)\n",
        "\n",
        "a,b,c = [float(x) for x in input('enter 3 numbers:').split()]\n",
        "print('the sum of 3 numbers is:',a+b+c)\n"
      ]
    }
  ]
}