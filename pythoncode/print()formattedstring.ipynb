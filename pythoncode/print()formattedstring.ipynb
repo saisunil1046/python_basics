{
  "nbformat": 4,
  "nbformat_minor": 0,
  "metadata": {
    "colab": {
      "provenance": [],
      "authorship_tag": "ABX9TyPoZGvlSJTKT5XJIjimlN+/"
    },
    "kernelspec": {
      "name": "python3",
      "display_name": "Python 3"
    },
    "language_info": {
      "name": "python"
    }
  },
  "cells": [
    {
      "cell_type": "code",
      "execution_count": null,
      "metadata": {
        "colab": {
          "base_uri": "https://localhost:8080/"
        },
        "id": "dEaJ_24Qp8yh",
        "outputId": "77a31761-e53b-431a-9b09-5cbf534a52a7"
      },
      "outputs": [
        {
          "output_type": "stream",
          "name": "stdout",
          "text": [
            "a value is: 10\n",
            "a=10,b=20,c=30\n",
            "Hello sai, your marks are:[10, 20, 30, 40]\n",
            "price value=70.56789\n",
            "price value=70.567890\n",
            "price value=70.57\n"
          ]
        }
      ],
      "source": [
        "a=10\n",
        "print('a value is: %i' %a)\n",
        "\n",
        "a=10\n",
        "b=20\n",
        "c=30\n",
        "print('a=%d,b=%d,c=%d'%(a,b,c))\n",
        "\n",
        "name='sai'\n",
        "marks=[10,20,30,40]\n",
        "print('Hello %s, your marks are:%s'%(name,marks))\n",
        "\n",
        "#comparision between replacement and string operator.\n",
        "price=70.56789\n",
        "print('price value={}'.format(price))\n",
        "print('price value=%f'%price)\n",
        "print('price value=%.2f'%price) #rounded off to 2 decimals, that we cannot do in replacement operator.\n"
      ]
    },
    {
      "cell_type": "code",
      "source": [],
      "metadata": {
        "id": "COdVztjCtali"
      },
      "execution_count": null,
      "outputs": []
    }
  ]
}