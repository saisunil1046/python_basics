{
  "nbformat": 4,
  "nbformat_minor": 0,
  "metadata": {
    "colab": {
      "provenance": [],
      "authorship_tag": "ABX9TyPm3biORoJHPpWI/xHk/qfL"
    },
    "kernelspec": {
      "name": "python3",
      "display_name": "Python 3"
    },
    "language_info": {
      "name": "python"
    }
  },
  "cells": [
    {
      "cell_type": "code",
      "execution_count": null,
      "metadata": {
        "colab": {
          "base_uri": "https://localhost:8080/"
        },
        "id": "Lli0dY0lpgNH",
        "outputId": "eafdac39-6836-49dc-9982-6fd387c13134"
      },
      "outputs": [
        {
          "output_type": "stream",
          "name": "stdout",
          "text": [
            "20\n",
            "40\n",
            "60\n"
          ]
        }
      ],
      "source": [
        "#Nested collections is list of tuples or list of dict etc.,\n",
        "l1 = [(10,20,30),(40,50,60)]\n",
        "print(l1[0][1]) # to print the first element in list of tuple\n",
        "print(l1[1][0])\n",
        "print(l1[1][2])"
      ]
    },
    {
      "cell_type": "code",
      "source": [
        "d = {\n",
        "    'cars':('volkwagen','Hyundai','Maruti'),\n",
        "    'mobiles':{'VI','airtel','Nokia'}\n",
        "}\n",
        "#To display Second Car Name\n",
        "print(d['cars'][1])\n",
        "print(d.get('cars')[2])\n",
        "for mobile in d.get('mobiles'):\n",
        "  print(mobile)"
      ],
      "metadata": {
        "colab": {
          "base_uri": "https://localhost:8080/"
        },
        "id": "Ya6L1XwOrvPf",
        "outputId": "94966e95-fda3-4b04-c8f5-1f9b218f2e15"
      },
      "execution_count": null,
      "outputs": [
        {
          "output_type": "stream",
          "name": "stdout",
          "text": [
            "Hyundai\n",
            "Maruti\n",
            "airtel\n",
            "Nokia\n",
            "VI\n"
          ]
        }
      ]
    },
    {
      "cell_type": "code",
      "source": [],
      "metadata": {
        "id": "7eWvVfPbucqh"
      },
      "execution_count": null,
      "outputs": []
    }
  ]
}