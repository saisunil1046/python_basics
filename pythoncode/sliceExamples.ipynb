{
  "nbformat": 4,
  "nbformat_minor": 0,
  "metadata": {
    "colab": {
      "provenance": [],
      "authorship_tag": "ABX9TyMIs92yMeBKxRHqCLTNzPQn"
    },
    "kernelspec": {
      "name": "python3",
      "display_name": "Python 3"
    },
    "language_info": {
      "name": "python"
    }
  },
  "cells": [
    {
      "cell_type": "code",
      "execution_count": null,
      "metadata": {
        "colab": {
          "base_uri": "https://localhost:8080/"
        },
        "id": "NxRE21qdYEBl",
        "outputId": "63bda6f4-c6d7-4528-89f0-149adb4b7241"
      },
      "outputs": [
        {
          "output_type": "stream",
          "name": "stdout",
          "text": [
            "output is: bdf\n",
            "output is: abcdefghij\n",
            "output is: jihgfedcba\n",
            "output is: \n",
            "output is: hgf\n",
            "output is: abcdefghij\n",
            "output is: gfedc\n",
            "output is: gec\n",
            "output is: \n"
          ]
        }
      ],
      "source": [
        "s='abcdefghij'\n",
        "#index of string s\n",
        "#[-10-9-8-7-6-5-4-3-2-1]\n",
        "#[a  b  c d e f g h i j]\n",
        "#[0  1  2 3 4 5 6 7 8 9]\n",
        "print(\"output is:\",s[1:6:2]) # increment 2 characters in forward direction ie., from 1st index to 5th index consider only every second character\n",
        "\n",
        "print(\"output is:\",s[::1]) # last step value is positive 1 that means in forward direction and begin is from default 0 index and end is by default nth index, so consider every character from begin to end.\n",
        "\n",
        "print(\"output is:\",s[ : : -1]) #(reverse string) step value is negative -1 which means in negative direction, in negative direction default begin value for begin is -1th index and default value for end is until last character. so consider every character from last to first\n",
        "\n",
        "print(\"output is:\",s[3:7:-1]) # in reverse direction from begin to end+1 i.e, from 3rd index to 8th index we need to consider in backward direction from 3rd index to 8th index but from 3rd index we cannot go to 8th index in reverse direction hence the output should be blank.\n",
        "\n",
        "print(\"output is:\",s[7:4:-1]) # in reverse direction from 7th to 5th index\n",
        "\n",
        "print(\"output is:\",s[0:10000:1]) # in forward directin from 0 to 9999 index but string has index only till 9th index so it will not raise any error instead of it, it will consider till the last index of string\n",
        "\n",
        "print(\"output is:\",s[-4:1:-1]) # in reverse direction from -4th to 2nd index\n",
        "\n",
        "print(\"output is:\",s[-4:1:-2]) # in reverse direction from -4th to 2nd index of every second character in reverse direction.\n",
        "\n",
        "print(\"output is:\",s[5:0:1]) # in forward direction if end value is zero then it would be a empty string.\n"
      ]
    },
    {
      "cell_type": "code",
      "source": [
        "print(\"output is:\",s[9:0:0]) # in slice operator we cannot give step value as zero, if it is provided then it will return value error."
      ],
      "metadata": {
        "colab": {
          "base_uri": "https://localhost:8080/",
          "height": 171
        },
        "id": "rjUIsiA-gpg9",
        "outputId": "a31a8741-2086-47a1-c6a9-f15e2de640be"
      },
      "execution_count": null,
      "outputs": [
        {
          "output_type": "error",
          "ename": "ValueError",
          "evalue": "ignored",
          "traceback": [
            "\u001b[0;31m---------------------------------------------------------------------------\u001b[0m",
            "\u001b[0;31mValueError\u001b[0m                                Traceback (most recent call last)",
            "\u001b[0;32m<ipython-input-12-6ce0f27c83cc>\u001b[0m in \u001b[0;36m<module>\u001b[0;34m\u001b[0m\n\u001b[0;32m----> 1\u001b[0;31m \u001b[0mprint\u001b[0m\u001b[0;34m(\u001b[0m\u001b[0;34m\"output is:\"\u001b[0m\u001b[0;34m,\u001b[0m\u001b[0ms\u001b[0m\u001b[0;34m[\u001b[0m\u001b[0;36m9\u001b[0m\u001b[0;34m:\u001b[0m\u001b[0;36m0\u001b[0m\u001b[0;34m:\u001b[0m\u001b[0;36m0\u001b[0m\u001b[0;34m]\u001b[0m\u001b[0;34m)\u001b[0m \u001b[0;31m# in slice operator we cannot give step value as zero, if it is provided then it will return value error.\u001b[0m\u001b[0;34m\u001b[0m\u001b[0;34m\u001b[0m\u001b[0m\n\u001b[0m",
            "\u001b[0;31mValueError\u001b[0m: slice step cannot be zero"
          ]
        }
      ]
    },
    {
      "cell_type": "code",
      "source": [
        "print(\"output is:\",s[0:-10:-1]) # in reverse direction we need to consider from 0th index to -9th index so from above string we will never get -9th index from 0th index moving in reverse direction, so output is empty string"
      ],
      "metadata": {
        "colab": {
          "base_uri": "https://localhost:8080/"
        },
        "id": "2EXzdyirhG8S",
        "outputId": "92bb01c0-8275-4fb8-9fd2-cd4e8a932122"
      },
      "execution_count": null,
      "outputs": [
        {
          "output_type": "stream",
          "name": "stdout",
          "text": [
            "output is: \n"
          ]
        }
      ]
    },
    {
      "cell_type": "code",
      "source": [
        "print(\"output is:\",s[0:-11:-1]) # in reverse direction we need to consider from 0th index to -10th index so from above string only letter a is considered\n",
        "print(\"output is:\",s[0:0:1]) #in forward direction if end value is zero then it would be a empty string."
      ],
      "metadata": {
        "colab": {
          "base_uri": "https://localhost:8080/"
        },
        "id": "IzX0sJcniL53",
        "outputId": "294860bd-b02a-4557-e7d5-eca76f86540b"
      },
      "execution_count": null,
      "outputs": [
        {
          "output_type": "stream",
          "name": "stdout",
          "text": [
            "output is: a\n",
            "output is: \n"
          ]
        }
      ]
    },
    {
      "cell_type": "code",
      "source": [
        "print(\"output is:\",s[0:-9:-2]) # in reverse direction we need to consider from 0th index to -8th index so from above string we will never get -8th index from 0th index moving in reverse direction, so output is empty string\n",
        "print(\"output is:\",s[-5:-9:-2]) # in reverse direction we need to consider from -5th index to -8th index and every second character needed to be considered.\n",
        "print(\"output is:\",s[10:-1:-1]) # In reverse directioin if we have end attribute is -1 then default output is empty string\n",
        "print(\"output is:\",s[10000:2:-1]) # In reverse direction we have to consider from 10000 to 3rd index which means from the 9th index to 3rd index in backward direction."
      ],
      "metadata": {
        "colab": {
          "base_uri": "https://localhost:8080/"
        },
        "id": "3aBn4qOoyqza",
        "outputId": "c8d058a6-d932-4472-8c13-fd0d7e4c137c"
      },
      "execution_count": null,
      "outputs": [
        {
          "output_type": "stream",
          "name": "stdout",
          "text": [
            "output is: \n",
            "output is: fd\n",
            "output is: \n",
            "output is: jihgfed\n"
          ]
        }
      ]
    },
    {
      "cell_type": "code",
      "source": [],
      "metadata": {
        "id": "1dax8w46y8yG"
      },
      "execution_count": null,
      "outputs": []
    }
  ]
}