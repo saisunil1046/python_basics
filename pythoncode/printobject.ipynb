{
  "nbformat": 4,
  "nbformat_minor": 0,
  "metadata": {
    "colab": {
      "provenance": [],
      "authorship_tag": "ABX9TyOBFWAkWjM1CpvuIM1lNh2N"
    },
    "kernelspec": {
      "name": "python3",
      "display_name": "Python 3"
    },
    "language_info": {
      "name": "python"
    }
  },
  "cells": [
    {
      "cell_type": "code",
      "execution_count": null,
      "metadata": {
        "id": "u3Lpq2FlZXWf",
        "colab": {
          "base_uri": "https://localhost:8080/"
        },
        "outputId": "af799a1a-3c5c-459c-c097-b11fc6b138be"
      },
      "outputs": [
        {
          "output_type": "stream",
          "name": "stdout",
          "text": [
            "Hello sai, your salary is 100000 and the department is IT\n",
            "Hello sai, your salary is 100000 and the department is IT\n",
            "Hello sai, your salary is 100000 and the department is IT\n",
            "a=10,b=20,c=30,d=40\n",
            "a=10,b=20,c=30,d=40\n"
          ]
        }
      ],
      "source": [
        "name='sai'\n",
        "salary=100000\n",
        "dept='IT'\n",
        "print('Hello {}, your salary is {} and the department is {}'.format(name,salary,dept))\n",
        "print('Hello {0}, your salary is {1} and the department is {2}'.format(name,salary,dept))\n",
        "print('Hello {n}, your salary is {s} and the department is {d}'.format(n=name,s=salary,d=dept))\n",
        "a,b,c,d=10,20,30,40\n",
        "print('a={},b={},c={},d={}'.format(a,b,c,d))\n",
        "print(\"a=%s,b=%s,c=%s,d=%s\"%(a,b,c,d))"
      ]
    },
    {
      "cell_type": "code",
      "source": [],
      "metadata": {
        "id": "0urGHO1enbTC"
      },
      "execution_count": null,
      "outputs": []
    }
  ]
}