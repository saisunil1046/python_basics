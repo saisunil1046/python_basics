{
  "nbformat": 4,
  "nbformat_minor": 0,
  "metadata": {
    "colab": {
      "provenance": [],
      "authorship_tag": "ABX9TyPffdkw+H7M8IIxIki8Mf/f"
    },
    "kernelspec": {
      "name": "python3",
      "display_name": "Python 3"
    },
    "language_info": {
      "name": "python"
    }
  },
  "cells": [
    {
      "cell_type": "code",
      "execution_count": null,
      "metadata": {
        "colab": {
          "base_uri": "https://localhost:8080/"
        },
        "id": "WinVXmGtktHc",
        "outputId": "0e8aba7c-c731-4237-847f-d997f6a6c3fd"
      },
      "outputs": [
        {
          "output_type": "stream",
          "name": "stdout",
          "text": [
            "homeloan interest rate: 8\n",
            "vehicleloan interest rate: 11\n"
          ]
        }
      ],
      "source": [
        "from abc import *\n",
        "\n",
        "class loan(ABC):\n",
        "  @abstractmethod           #best way to define abstractmethod using 'pass' statement\n",
        "  def getInterestRate(self):\n",
        "    pass\n",
        "class homeloan(loan):\n",
        "  def getInterestRate(self):\n",
        "    return 8\n",
        "class vehicleloan(loan):\n",
        "  def getInterestRate(self):\n",
        "    return 11\n",
        "\n",
        "h = homeloan() #creating homeloan object\n",
        "\n",
        "print(\"homeloan interest rate:\",h.getInterestRate())\n",
        "\n",
        "v = vehicleloan()\n",
        "print(\"vehicleloan interest rate:\",v.getInterestRate())"
      ]
    }
  ]
}