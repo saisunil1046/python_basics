{
  "nbformat": 4,
  "nbformat_minor": 0,
  "metadata": {
    "colab": {
      "provenance": [],
      "authorship_tag": "ABX9TyP2IbTCmQVs18P1L8awJO4M"
    },
    "kernelspec": {
      "name": "python3",
      "display_name": "Python 3"
    },
    "language_info": {
      "name": "python"
    }
  },
  "cells": [
    {
      "cell_type": "code",
      "execution_count": null,
      "metadata": {
        "colab": {
          "base_uri": "https://localhost:8080/"
        },
        "id": "Ho0rfg8Uw0BO",
        "outputId": "71fc98d6-5ab1-47a6-c680-c9148b2732c6"
      },
      "outputs": [
        {
          "output_type": "stream",
          "name": "stdout",
          "text": [
            "random float number between 0 & 1 :  0.6542069807744044\n",
            "uniform float number between any numbers 1 & 10 :  1.0685953242906132\n",
            "random int value between 1 & 10 inclusive of both begin and end values : 5\n",
            "7\n",
            "8\n",
            "7\n",
            "3\n",
            "7\n",
            "4\n",
            "1\n",
            "9\n",
            "2\n",
            "10\n"
          ]
        }
      ],
      "source": [
        "from random import *\n",
        "\n",
        "print(\"random float number between 0 & 1 : \",random()) # gives random float number between 0 and 1 (not inclusive)\n",
        "\n",
        "print(\"uniform float number between any numbers 1 & 10 : \",uniform(1,10)) # gives random float number between any two numbers(not inclusive)\n",
        "\n",
        "print(\"random int value between 1 & 10 inclusive of both begin and end values :\",randint(1,10)) # gives random int number between begin and end numbers (inclusive)\n",
        "\n",
        "for i in range(10):\n",
        "  print(randint(1,10)) # you can see the inclusive of 1 and 10 in it\n"
      ]
    },
    {
      "cell_type": "code",
      "source": [
        "#randrange(begin,end,step) -- gives random number from begin to end -1 with incremental step, begin is optional & default is 0 and end is mandatory and step is optional where default is 1.\n",
        "\n",
        "for i in range(10):\n",
        "  print(randrange(5)) # gives random number from default start 0 to 4 with step 1\n",
        "print(\"-------------------------------------------------------------------------\")\n",
        "for i in range(10):\n",
        "  print(randrange(1,11,2)) # gives random number from default start 1 to 10 with step incremental 2\n",
        "print(\"-------------------------------------------------------------------------\")\n",
        "for i in range(10):\n",
        "  print(randrange(0,101,10)) # gives random number from default start 1 to 100 with step incremental 10\n"
      ],
      "metadata": {
        "colab": {
          "base_uri": "https://localhost:8080/"
        },
        "id": "LseGgvURz8ob",
        "outputId": "ffe6eabb-d0b1-41c8-cd6a-8911259b060b"
      },
      "execution_count": null,
      "outputs": [
        {
          "output_type": "stream",
          "name": "stdout",
          "text": [
            "4\n",
            "2\n",
            "0\n",
            "0\n",
            "2\n",
            "1\n",
            "0\n",
            "4\n",
            "0\n",
            "2\n",
            "-------------------------------------------------------------------------\n",
            "7\n",
            "3\n",
            "9\n",
            "3\n",
            "7\n",
            "9\n",
            "1\n",
            "7\n",
            "7\n",
            "1\n",
            "-------------------------------------------------------------------------\n",
            "70\n",
            "10\n",
            "50\n",
            "30\n",
            "30\n",
            "90\n",
            "30\n",
            "40\n",
            "50\n",
            "40\n"
          ]
        }
      ]
    },
    {
      "cell_type": "code",
      "source": [],
      "metadata": {
        "id": "oE35OWfTBj4E"
      },
      "execution_count": null,
      "outputs": []
    }
  ]
}
