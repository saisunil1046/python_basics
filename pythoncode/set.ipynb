{
  "nbformat": 4,
  "nbformat_minor": 0,
  "metadata": {
    "colab": {
      "provenance": [],
      "authorship_tag": "ABX9TyPRnJqHCKqFn9oVm0UgKlTW"
    },
    "kernelspec": {
      "name": "python3",
      "display_name": "Python 3"
    },
    "language_info": {
      "name": "python"
    }
  },
  "cells": [
    {
      "cell_type": "code",
      "execution_count": null,
      "metadata": {
        "colab": {
          "base_uri": "https://localhost:8080/"
        },
        "id": "PTWu7rQMMCHt",
        "outputId": "f9032429-dd46-42a2-c4b6-25065a75c646"
      },
      "outputs": [
        {
          "output_type": "stream",
          "name": "stdout",
          "text": [
            "enter word:apple\n",
            "{'e', 'a'}\n"
          ]
        }
      ],
      "source": [
        "#program to find different vowels present in given word\n",
        "word = input('enter word:')\n",
        "s = set(word)\n",
        "v = {'a','e','i','o','u'}\n",
        "\n",
        "#result = s.intersection(v)\n",
        "result = s&v\n",
        "print(result)"
      ]
    },
    {
      "cell_type": "markdown",
      "source": [],
      "metadata": {
        "id": "sWsEc0DeNRxe"
      }
    }
  ]
}