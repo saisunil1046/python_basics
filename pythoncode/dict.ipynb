{
  "nbformat": 4,
  "nbformat_minor": 0,
  "metadata": {
    "colab": {
      "provenance": [],
      "authorship_tag": "ABX9TyNK3z07/NJirymm1mpQb7X7"
    },
    "kernelspec": {
      "name": "python3",
      "display_name": "Python 3"
    },
    "language_info": {
      "name": "python"
    }
  },
  "cells": [
    {
      "cell_type": "code",
      "execution_count": null,
      "metadata": {
        "colab": {
          "base_uri": "https://localhost:8080/"
        },
        "id": "vrC227l0Svaa",
        "outputId": "1a10f749-1434-4989-cd57-c01666dd10f4"
      },
      "outputs": [
        {
          "output_type": "stream",
          "name": "stdout",
          "text": [
            "enter any string: aabbbcccc\n",
            "{'a': 2, 'b': 3, 'c': 4}\n"
          ]
        }
      ],
      "source": [
        "#find no.of occurances of each letter in the given string\n",
        "\n",
        "word = input('enter any string: ')\n",
        "d = {}\n",
        "for ch in word:\n",
        "  d[ch] = d.get(ch,0)+1\n",
        "print(d)"
      ]
    },
    {
      "cell_type": "code",
      "source": [
        "#find no.of occurances of each vowel present in the given string\n",
        "\n",
        "word = input('enter any string: ')\n",
        "\n",
        "vowels={'a','e','i','o','u'}\n",
        "d = {}\n",
        "for ch in word:\n",
        "  if ch in vowels:\n",
        "    d[ch] = d.get(ch,0)+1\n",
        "\n",
        "print(d)\n",
        "for k,v in sorted(d.items()):\n",
        "  print(k, \"Occurred\", v, \"times\")\n"
      ],
      "metadata": {
        "colab": {
          "base_uri": "https://localhost:8080/"
        },
        "id": "mMjSYz2zUXrg",
        "outputId": "50d31c39-9a83-43f2-fe66-485d8e5e87e4"
      },
      "execution_count": null,
      "outputs": [
        {
          "output_type": "stream",
          "name": "stdout",
          "text": [
            "enter any string: durgasoftwaresolutionslimited\n",
            "{'u': 2, 'a': 2, 'o': 3, 'e': 2, 'i': 3}\n",
            "a Occurred 2 times\n",
            "e Occurred 2 times\n",
            "i Occurred 3 times\n",
            "o Occurred 3 times\n",
            "u Occurred 2 times\n"
          ]
        }
      ]
    },
    {
      "cell_type": "code",
      "source": [
        "#dict comprehension\n",
        "d = {x:x*x for x in range(1,6)}\n",
        "print(d)\n",
        "\n",
        "d1 = {x:2**x for x in range(1,6)}\n",
        "print(d1)"
      ],
      "metadata": {
        "colab": {
          "base_uri": "https://localhost:8080/"
        },
        "id": "lf0XZi3sjN7b",
        "outputId": "00d80b64-d5c4-457c-a02d-015a67aad96a"
      },
      "execution_count": null,
      "outputs": [
        {
          "output_type": "stream",
          "name": "stdout",
          "text": [
            "{1: 1, 2: 4, 3: 9, 4: 16, 5: 25}\n",
            "{1: 2, 2: 4, 3: 8, 4: 16, 5: 32}\n"
          ]
        }
      ]
    }
  ]
}