{
  "nbformat": 4,
  "nbformat_minor": 0,
  "metadata": {
    "colab": {
      "provenance": [],
      "authorship_tag": "ABX9TyMyug8hl9fsRcNF4poM5kEY"
    },
    "kernelspec": {
      "name": "python3",
      "display_name": "Python 3"
    },
    "language_info": {
      "name": "python"
    }
  },
  "cells": [
    {
      "cell_type": "code",
      "execution_count": null,
      "metadata": {
        "colab": {
          "base_uri": "https://localhost:8080/"
        },
        "id": "ahYv3arKdh0O",
        "outputId": "2e168085-763a-46e4-e33b-1356e3742d0b"
      },
      "outputs": [
        {
          "output_type": "stream",
          "name": "stdout",
          "text": [
            "enter substring ABC\n",
            "ABC present at index:0\n",
            "ABC present at index:6\n",
            "ABC present at index:12\n",
            "The number of occurances: 3\n"
          ]
        }
      ],
      "source": [
        "s='ABCDEFABCGHIABCJKL'\n",
        "substr=input('enter substring ')\n",
        "i=s.find(substr)\n",
        "if i == -1:\n",
        "  print('given substring is not available in whole string')\n",
        "while i!= -1:\n",
        "  print('{} present at index:{}'.format(substr,i))\n",
        "  i=s.find(substr,i+len(substr),len(s))\n",
        "\n",
        "print('The number of occurances:',s.count(substr))\n"
      ]
    }
  ]
}