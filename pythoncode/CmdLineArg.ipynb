{
  "nbformat": 4,
  "nbformat_minor": 0,
  "metadata": {
    "colab": {
      "provenance": [],
      "authorship_tag": "ABX9TyMxxj5t7QvEnt28NJsBsioe"
    },
    "kernelspec": {
      "name": "python3",
      "display_name": "Python 3"
    },
    "language_info": {
      "name": "python"
    }
  },
  "cells": [
    {
      "cell_type": "code",
      "execution_count": null,
      "metadata": {
        "colab": {
          "base_uri": "https://localhost:8080/"
        },
        "id": "44v_Y156Y9rZ",
        "outputId": "5ae6212d-19a5-4211-e4dd-4f85540d1513"
      },
      "outputs": [
        {
          "output_type": "stream",
          "name": "stdout",
          "text": [
            "/usr/local/lib/python3.8/dist-packages/ipykernel_launcher.py\n"
          ]
        }
      ],
      "source": [
        "from sys import argv\n",
        "print(argv[0])"
      ]
    },
    {
      "cell_type": "code",
      "source": [
        "a,b,c,d=10,20,30,40\n",
        "print('values are:',a,b,c,d,sep=';')"
      ],
      "metadata": {
        "colab": {
          "base_uri": "https://localhost:8080/"
        },
        "id": "ySZ2s2gyapLR",
        "outputId": "dd5d84d5-b0f2-4644-b83e-175767052a7d"
      },
      "execution_count": null,
      "outputs": [
        {
          "output_type": "stream",
          "name": "stdout",
          "text": [
            "values are:;10;20;30;40\n"
          ]
        }
      ]
    }
  ]
}