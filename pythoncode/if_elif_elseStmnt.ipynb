{
  "nbformat": 4,
  "nbformat_minor": 0,
  "metadata": {
    "colab": {
      "provenance": [],
      "authorship_tag": "ABX9TyNiEHnR/B91Ba3xnA82sOGq"
    },
    "kernelspec": {
      "name": "python3",
      "display_name": "Python 3"
    },
    "language_info": {
      "name": "python"
    }
  },
  "cells": [
    {
      "cell_type": "code",
      "execution_count": null,
      "metadata": {
        "colab": {
          "base_uri": "https://localhost:8080/"
        },
        "id": "eF_uTQbS07b4",
        "outputId": "16888439-d84f-4d08-8c65-ea8e88b29bd3"
      },
      "outputs": [
        {
          "output_type": "stream",
          "name": "stdout",
          "text": [
            "Enter your favourite color: orange\n",
            "It is not a color at all\n"
          ]
        }
      ],
      "source": [
        "color=input('Enter your favourite color: ')\n",
        "if color == 'blue':\n",
        "  print('It is very thick color')\n",
        "elif color == 'red':\n",
        "  print('It is a dangerous color')\n",
        "elif color == 'white':\n",
        "  print('It is a light color')\n",
        "elif color == 'black':\n",
        "  print('it is a dark color')\n",
        "else:\n",
        "  print('It is not a color at all')\n",
        "\n"
      ]
    },
    {
      "cell_type": "code",
      "source": [
        "color=input('Enter your favourite color: ')\n",
        "if color == 'blue':\n",
        "  print('It is very thick color')\n",
        "elif color == 'red':\n",
        "  print('It is a dangerous color')\n",
        "elif color == 'white':\n",
        "  print('It is a light color')\n",
        "elif color == 'black':\n",
        "  print('it is a dark color')\n",
        "else:\n",
        "  print('It is not a color at all')\n",
        "\n"
      ],
      "metadata": {
        "colab": {
          "base_uri": "https://localhost:8080/"
        },
        "id": "Il3rftKx13YC",
        "outputId": "4d941673-3fb6-42df-d3c8-13334e02a0cb"
      },
      "execution_count": null,
      "outputs": [
        {
          "output_type": "stream",
          "name": "stdout",
          "text": [
            "Enter your favourite color: blue\n",
            "It is very thick color\n"
          ]
        }
      ]
    },
    {
      "cell_type": "code",
      "source": [
        "#else part is not mandatory, it is optional\n",
        "color=input('Enter your favourite color: ')\n",
        "if color == 'blue':\n",
        "  print('It is very thick color')\n",
        "elif color == 'red':\n",
        "  print('It is a dangerous color')\n",
        "elif color == 'white':\n",
        "  print('It is a light color')\n",
        "elif color == 'black':\n",
        "  print('it is a dark color')"
      ],
      "metadata": {
        "colab": {
          "base_uri": "https://localhost:8080/"
        },
        "id": "TmZLDudG2VVo",
        "outputId": "fab743ba-584b-406f-f4ff-3e28d747d8e7"
      },
      "execution_count": null,
      "outputs": [
        {
          "output_type": "stream",
          "name": "stdout",
          "text": [
            "Enter your favourite color: red\n",
            "It is a dangerous color\n"
          ]
        }
      ]
    }
  ]
}