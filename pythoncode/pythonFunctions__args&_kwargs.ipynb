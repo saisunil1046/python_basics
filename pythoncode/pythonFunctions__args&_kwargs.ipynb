{
  "nbformat": 4,
  "nbformat_minor": 0,
  "metadata": {
    "colab": {
      "provenance": [],
      "authorship_tag": "ABX9TyNqMc/zmctm5Ig4NCC8HGCB"
    },
    "kernelspec": {
      "name": "python3",
      "display_name": "Python 3"
    },
    "language_info": {
      "name": "python"
    }
  },
  "cells": [
    {
      "cell_type": "code",
      "execution_count": null,
      "metadata": {
        "colab": {
          "base_uri": "https://localhost:8080/"
        },
        "id": "atIls6HUwEmc",
        "outputId": "4b2300c6-62ea-4fbd-b1f2-de50f121c6ae"
      },
      "outputs": [
        {
          "output_type": "stream",
          "name": "stdout",
          "text": [
            "(10,)\n",
            "type of args: <class 'tuple'>\n",
            "()\n",
            "type of args: <class 'tuple'>\n",
            "(10, 20, 'abc')\n",
            "type of args: <class 'tuple'>\n"
          ]
        }
      ],
      "source": [
        "#variable length arguments *args\n",
        "#we can call function with any number of arguments\n",
        "def f1(*args):\n",
        "  print(args)\n",
        "  print(\"type of args:\", type(args))\n",
        "\n",
        "f1(10)\n",
        "f1()\n",
        "f1(10,20,'abc')"
      ]
    },
    {
      "cell_type": "code",
      "source": [
        "#Keyword variable length arguments **kwargs\n",
        "#we can call the function with any number of keyword arguments\n",
        "def f1(**kwargs):\n",
        "  print(kwargs)\n",
        "  print(\"type of args:\", type(kwargs))\n",
        "\n",
        "f1()\n",
        "f1(name='sai',age='32')\n",
        "\n"
      ],
      "metadata": {
        "colab": {
          "base_uri": "https://localhost:8080/"
        },
        "id": "3LTZrdEixoIv",
        "outputId": "0914fa36-3c2d-42c9-ee8b-4c1891601046"
      },
      "execution_count": null,
      "outputs": [
        {
          "output_type": "stream",
          "name": "stdout",
          "text": [
            "{}\n",
            "type of args: <class 'dict'>\n",
            "{'name': 'sai', 'age': '32'}\n",
            "type of args: <class 'dict'>\n"
          ]
        }
      ]
    },
    {
      "cell_type": "code",
      "source": [
        "#we can use variable length args and variable length keyword kwards at a time\n",
        "\n",
        "def f1(*args,**kwargs):\n",
        "  print(args)\n",
        "  print(kwargs)\n",
        "\n",
        "f1(10,20,name='sai',rollno='56') # we can use variable length args before keyword args i.e, keyword  arguments follows positional arguments\n"
      ],
      "metadata": {
        "colab": {
          "base_uri": "https://localhost:8080/"
        },
        "id": "hzPK0ZyA28nP",
        "outputId": "10f1e29a-c839-409d-ff9c-827d31d23868"
      },
      "execution_count": null,
      "outputs": [
        {
          "output_type": "stream",
          "name": "stdout",
          "text": [
            "(10, 20)\n",
            "{'name': 'sai', 'rollno': '56'}\n"
          ]
        }
      ]
    },
    {
      "cell_type": "code",
      "source": [
        "def f2(**kwargs, *args): #we cant define func with keyword args followed by variable length args\n",
        "  print(kwargs)\n",
        "  print(args)\n",
        "\n",
        "f2(name='sai',rollno='56',10,20)"
      ],
      "metadata": {
        "colab": {
          "base_uri": "https://localhost:8080/",
          "height": 134
        },
        "id": "UaOFc7mF4amb",
        "outputId": "de009b22-0791-4ac0-ba15-7ff0a15ac0a9"
      },
      "execution_count": null,
      "outputs": [
        {
          "output_type": "error",
          "ename": "SyntaxError",
          "evalue": "ignored",
          "traceback": [
            "\u001b[0;36m  File \u001b[0;32m\"<ipython-input-17-7484fe1e02e4>\"\u001b[0;36m, line \u001b[0;32m1\u001b[0m\n\u001b[0;31m    def f2(**kwargs, *args):\u001b[0m\n\u001b[0m                     ^\u001b[0m\n\u001b[0;31mSyntaxError\u001b[0m\u001b[0;31m:\u001b[0m invalid syntax\n"
          ]
        }
      ]
    }
  ]
}