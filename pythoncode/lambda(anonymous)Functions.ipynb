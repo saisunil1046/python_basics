{
  "nbformat": 4,
  "nbformat_minor": 0,
  "metadata": {
    "colab": {
      "provenance": [],
      "authorship_tag": "ABX9TyO/5hYte7wPoiMhhkTO0N+3"
    },
    "kernelspec": {
      "name": "python3",
      "display_name": "Python 3"
    },
    "language_info": {
      "name": "python"
    }
  },
  "cells": [
    {
      "cell_type": "code",
      "execution_count": null,
      "metadata": {
        "colab": {
          "base_uri": "https://localhost:8080/"
        },
        "id": "oOCSfXAcR340",
        "outputId": "6a767f13-ae1d-442a-dcce-d4407d31b1ba"
      },
      "outputs": [
        {
          "output_type": "stream",
          "name": "stdout",
          "text": [
            "6\n"
          ]
        }
      ],
      "source": [
        "#lumbda function example\n",
        "s = lambda n: n*2\n",
        "print(s(3))"
      ]
    },
    {
      "cell_type": "code",
      "source": [
        "#Find the biggest of given two numbers using lambda function\n",
        "biggest = lambda a,b: a if a>b else b\n",
        "print(biggest(10,20))\n",
        "print(biggest(250,40))\n",
        "print(biggest(-10,-100))\n",
        "\n",
        "#Find the biggest of given three numbers using lambda function\n",
        "bigger = lambda a,b,c : a if a>b and a>c else b if b>c else c\n",
        "print(bigger(10,20,40))\n",
        "print(bigger(100,280,100))"
      ],
      "metadata": {
        "colab": {
          "base_uri": "https://localhost:8080/"
        },
        "id": "e8FEtDM4S2K5",
        "outputId": "bf26bc19-a68d-40ce-fbd1-b8c3dd377d7d"
      },
      "execution_count": null,
      "outputs": [
        {
          "output_type": "stream",
          "name": "stdout",
          "text": [
            "20\n",
            "250\n",
            "-10\n",
            "40\n",
            "280\n"
          ]
        }
      ]
    }
  ]
}