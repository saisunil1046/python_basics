{
  "nbformat": 4,
  "nbformat_minor": 0,
  "metadata": {
    "colab": {
      "provenance": [],
      "authorship_tag": "ABX9TyPKQBurFXxLhDR2RNC65yQo"
    },
    "kernelspec": {
      "name": "python3",
      "display_name": "Python 3"
    },
    "language_info": {
      "name": "python"
    }
  },
  "cells": [
    {
      "cell_type": "code",
      "execution_count": null,
      "metadata": {
        "colab": {
          "base_uri": "https://localhost:8080/"
        },
        "id": "9Gde4UEDOTU5",
        "outputId": "aa02f2d2-485e-47ae-f69d-b3072edff2cf"
      },
      "outputs": [
        {
          "output_type": "stream",
          "name": "stdout",
          "text": [
            "enternumber100\n",
            "5050\n"
          ]
        }
      ],
      "source": [
        "n=int(input('enternumber'))\n",
        "i=1\n",
        "sum=0\n",
        "while i<=n:\n",
        "  sum = sum+i\n",
        "  i+=1\n",
        "print(sum)"
      ]
    }
  ]
}