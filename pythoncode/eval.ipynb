{
  "nbformat": 4,
  "nbformat_minor": 0,
  "metadata": {
    "colab": {
      "provenance": [],
      "authorship_tag": "ABX9TyO3F4zftp1R4RkoGLxkreNp",
      "include_colab_link": true
    },
    "kernelspec": {
      "name": "python3",
      "display_name": "Python 3"
    },
    "language_info": {
      "name": "python"
    }
  },
  "cells": [
    {
      "cell_type": "markdown",
      "metadata": {
        "id": "view-in-github",
        "colab_type": "text"
      },
      "source": [
        "<a href=\"https://colab.research.google.com/github/saisunil1046/python_basics/blob/main/pythoncode/eval.ipynb\" target=\"_parent\"><img src=\"https://colab.research.google.com/assets/colab-badge.svg\" alt=\"Open In Colab\"/></a>"
      ]
    },
    {
      "cell_type": "code",
      "execution_count": null,
      "metadata": {
        "colab": {
          "base_uri": "https://localhost:8080/"
        },
        "id": "BMkADsueBH_P",
        "outputId": "67145170-805f-42a1-bc43-6a3bb56536d0"
      },
      "outputs": [
        {
          "output_type": "stream",
          "name": "stdout",
          "text": [
            "enter x value10\n",
            "type of x: <class 'str'>\n",
            "enter y value23.5\n",
            "type of y: <class 'float'>\n",
            "enter z value[10,20,30]\n",
            "type of z: <class 'list'>\n",
            "value of s and type of s: 10.0 <class 'float'>\n"
          ]
        }
      ],
      "source": [
        "x = input('enter x value')\n",
        "print('type of x:',type(x))\n",
        "\n",
        "y = eval(input('enter y value'))\n",
        "print('type of y:', type(y))\n",
        "\n",
        "z = eval(input('enter z value'))\n",
        "print('type of z:', type(z))\n",
        "\n",
        "s = eval('10+20/3**4//5*40')\n",
        "print('value of s and type of s:',s,type(s))\n",
        "\n"
      ]
    }
  ]
}