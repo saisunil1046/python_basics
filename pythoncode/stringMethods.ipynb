{
  "nbformat": 4,
  "nbformat_minor": 0,
  "metadata": {
    "colab": {
      "provenance": [],
      "authorship_tag": "ABX9TyPHOvrh2ftM5NyBbPJD9lQo"
    },
    "kernelspec": {
      "name": "python3",
      "display_name": "Python 3"
    },
    "language_info": {
      "name": "python"
    }
  },
  "cells": [
    {
      "cell_type": "code",
      "execution_count": null,
      "metadata": {
        "colab": {
          "base_uri": "https://localhost:8080/"
        },
        "id": "bsEHIfqBOvYl",
        "outputId": "cdc39c58-7c03-4ba2-c9f2-81fb6c8cb09b"
      },
      "outputs": [
        {
          "output_type": "stream",
          "name": "stdout",
          "text": [
            "1\n",
            "-1\n",
            "3\n",
            "-1\n"
          ]
        }
      ],
      "source": [
        "s='ABCBA'\n",
        "print(s.find('B')) # if the given substring available then it returns index of first occurance of B from left to right else it will return -1\n",
        "print(s.find('z')) # it returns -1 bcoz the given substring is not available\n",
        "\n",
        "print(s.rfind('B')) # if the given substring available then it returns index of first occurance of B from right to left else it will return -1\n",
        "print(s.rfind('z')) # it returns -1 bcoz the given substring is not available\n"
      ]
    },
    {
      "cell_type": "code",
      "source": [
        "#find the substring in the given bound range of index\n",
        "#s.find('substr',begin,end) -- find the first occurance of substr in between the begin to end-1 index\n",
        "\n",
        "s='ABCDEFGHIJBK'\n",
        "\n",
        "print(s.find('B',3,8)) # as the given substring not present in between the bound range of index btwn 3 to 7th index so returning -1\n",
        "print(s.find('F',3,8)) # as the given substring  present in 5th between the bound range of index btwn 3 to 7th index so returning 5"
      ],
      "metadata": {
        "colab": {
          "base_uri": "https://localhost:8080/"
        },
        "id": "BUdATjUx3yaf",
        "outputId": "93686ea8-5b56-47e8-c313-baa225a6c5b1"
      },
      "execution_count": null,
      "outputs": [
        {
          "output_type": "stream",
          "name": "stdout",
          "text": [
            "-1\n",
            "5\n"
          ]
        }
      ]
    },
    {
      "cell_type": "code",
      "source": [
        "#index() and rindex()  methods\n",
        "s='ABCBA'\n",
        "print(s.index('B')) # if the given substring available then it returns index of first occurance of B from left to right else it will return \"value error\"\n",
        "print(s.index('z')) # it returns \"value error\" bcoz the given substring is not available"
      ],
      "metadata": {
        "colab": {
          "base_uri": "https://localhost:8080/",
          "height": 226
        },
        "id": "3rMtYXAg5v1W",
        "outputId": "5311bfde-fd39-4e97-a069-07a8f84fd9e3"
      },
      "execution_count": null,
      "outputs": [
        {
          "output_type": "stream",
          "name": "stdout",
          "text": [
            "1\n"
          ]
        },
        {
          "output_type": "error",
          "ename": "ValueError",
          "evalue": "ignored",
          "traceback": [
            "\u001b[0;31m---------------------------------------------------------------------------\u001b[0m",
            "\u001b[0;31mValueError\u001b[0m                                Traceback (most recent call last)",
            "\u001b[0;32m<ipython-input-6-b276a9a47204>\u001b[0m in \u001b[0;36m<module>\u001b[0;34m\u001b[0m\n\u001b[1;32m      2\u001b[0m \u001b[0ms\u001b[0m\u001b[0;34m=\u001b[0m\u001b[0;34m'ABCBA'\u001b[0m\u001b[0;34m\u001b[0m\u001b[0;34m\u001b[0m\u001b[0m\n\u001b[1;32m      3\u001b[0m \u001b[0mprint\u001b[0m\u001b[0;34m(\u001b[0m\u001b[0ms\u001b[0m\u001b[0;34m.\u001b[0m\u001b[0mindex\u001b[0m\u001b[0;34m(\u001b[0m\u001b[0;34m'B'\u001b[0m\u001b[0;34m)\u001b[0m\u001b[0;34m)\u001b[0m \u001b[0;31m# if the given substring available then it returns index of first occurance of B from left to right else it will return \"value error\"\u001b[0m\u001b[0;34m\u001b[0m\u001b[0;34m\u001b[0m\u001b[0m\n\u001b[0;32m----> 4\u001b[0;31m \u001b[0mprint\u001b[0m\u001b[0;34m(\u001b[0m\u001b[0ms\u001b[0m\u001b[0;34m.\u001b[0m\u001b[0mindex\u001b[0m\u001b[0;34m(\u001b[0m\u001b[0;34m'z'\u001b[0m\u001b[0;34m)\u001b[0m\u001b[0;34m)\u001b[0m \u001b[0;31m# it returns \"value error\" bcoz the given substring is not available\u001b[0m\u001b[0;34m\u001b[0m\u001b[0;34m\u001b[0m\u001b[0m\n\u001b[0m",
            "\u001b[0;31mValueError\u001b[0m: substring not found"
          ]
        }
      ]
    },
    {
      "cell_type": "code",
      "source": [
        "print(s.rindex('B')) # if the given substring available then it returns index of first occurance of B from right to left else it will return \"value error\"\n",
        "print(s.rindex('z')) # it returns \"value error\" bcoz the given substring is not available\n"
      ],
      "metadata": {
        "colab": {
          "base_uri": "https://localhost:8080/",
          "height": 207
        },
        "id": "OHeXsi7o6Y4J",
        "outputId": "e2fe9206-822e-4549-cfaa-ff309881814e"
      },
      "execution_count": null,
      "outputs": [
        {
          "output_type": "stream",
          "name": "stdout",
          "text": [
            "3\n"
          ]
        },
        {
          "output_type": "error",
          "ename": "ValueError",
          "evalue": "ignored",
          "traceback": [
            "\u001b[0;31m---------------------------------------------------------------------------\u001b[0m",
            "\u001b[0;31mValueError\u001b[0m                                Traceback (most recent call last)",
            "\u001b[0;32m<ipython-input-7-2b4ac82e8762>\u001b[0m in \u001b[0;36m<module>\u001b[0;34m\u001b[0m\n\u001b[1;32m      1\u001b[0m \u001b[0mprint\u001b[0m\u001b[0;34m(\u001b[0m\u001b[0ms\u001b[0m\u001b[0;34m.\u001b[0m\u001b[0mrindex\u001b[0m\u001b[0;34m(\u001b[0m\u001b[0;34m'B'\u001b[0m\u001b[0;34m)\u001b[0m\u001b[0;34m)\u001b[0m \u001b[0;31m# if the given substring available then it returns index of first occurance of B from right to left else it will return \"value error\"\u001b[0m\u001b[0;34m\u001b[0m\u001b[0;34m\u001b[0m\u001b[0m\n\u001b[0;32m----> 2\u001b[0;31m \u001b[0mprint\u001b[0m\u001b[0;34m(\u001b[0m\u001b[0ms\u001b[0m\u001b[0;34m.\u001b[0m\u001b[0mrindex\u001b[0m\u001b[0;34m(\u001b[0m\u001b[0;34m'z'\u001b[0m\u001b[0;34m)\u001b[0m\u001b[0;34m)\u001b[0m \u001b[0;31m# it returns \"value error\" bcoz the given substring is not available\u001b[0m\u001b[0;34m\u001b[0m\u001b[0;34m\u001b[0m\u001b[0m\n\u001b[0m",
            "\u001b[0;31mValueError\u001b[0m: substring not found"
          ]
        }
      ]
    },
    {
      "cell_type": "code",
      "source": [
        "d='hello boss boss'\n",
        "\n",
        "print(d.index('boss'))\n",
        "print(d.count('o')) # 2 times the letter o is available\n",
        "print(d.count('boss'))\n",
        "print(d.count('z')) # as the letter or substr is not available then it returns 0\n",
        "print(d.count('b',5,9)) # we can find count in between the bound range of index also"
      ],
      "metadata": {
        "colab": {
          "base_uri": "https://localhost:8080/"
        },
        "id": "4tlX0RHr7tEo",
        "outputId": "995b3b46-82fa-4fb4-c866-3ceb48642e81"
      },
      "execution_count": null,
      "outputs": [
        {
          "output_type": "stream",
          "name": "stdout",
          "text": [
            "6\n",
            "3\n",
            "2\n",
            "0\n",
            "1\n"
          ]
        }
      ]
    }
  ]
}