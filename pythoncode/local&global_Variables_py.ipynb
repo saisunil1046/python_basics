{
  "nbformat": 4,
  "nbformat_minor": 0,
  "metadata": {
    "colab": {
      "provenance": [],
      "authorship_tag": "ABX9TyO192lRrc2VgFT3uFJ3uZCR"
    },
    "kernelspec": {
      "name": "python3",
      "display_name": "Python 3"
    },
    "language_info": {
      "name": "python"
    }
  },
  "cells": [
    {
      "cell_type": "code",
      "execution_count": null,
      "metadata": {
        "colab": {
          "base_uri": "https://localhost:8080/"
        },
        "id": "L0FSbLqkKJmi",
        "outputId": "45d542dd-0f15-4ebd-93c2-ef0a49feecc1"
      },
      "outputs": [
        {
          "output_type": "stream",
          "name": "stdout",
          "text": [
            "20\n",
            "10\n"
          ]
        }
      ],
      "source": [
        "a=10 #global variable\n",
        "def f1():\n",
        "  a=20 #local variable\n",
        "  print(a)\n",
        "\n",
        "def f2():\n",
        "  print(a)\n",
        "\n",
        "f1()\n",
        "f2()"
      ]
    },
    {
      "cell_type": "code",
      "source": [
        "#To make global variable available to the function so that we can perform required modifications\n",
        "a=10 #global variable\n",
        "def f1():\n",
        "  global a\n",
        "  a=20 #local variable\n",
        "  print(a)\n",
        "\n",
        "def f2():\n",
        "  print(a)\n",
        "\n",
        "f1()\n",
        "f2()"
      ],
      "metadata": {
        "colab": {
          "base_uri": "https://localhost:8080/"
        },
        "id": "cTDPXdzWK9Wb",
        "outputId": "3952be4c-22fa-4099-88c5-c620e4e73417"
      },
      "execution_count": null,
      "outputs": [
        {
          "output_type": "stream",
          "name": "stdout",
          "text": [
            "20\n",
            "20\n"
          ]
        }
      ]
    },
    {
      "cell_type": "code",
      "source": [
        "#To make global variable available to the function so that we can perform required modifications\n",
        "a=10 #global variable\n",
        "def f1():\n",
        "  global a\n",
        "  a=20 #local variable\n",
        "  print(a)\n",
        "\n",
        "def f2():\n",
        "  print(a)\n",
        "\n",
        "f1()\n",
        "f2()"
      ],
      "metadata": {
        "id": "mJqYu8RwLTmo"
      },
      "execution_count": null,
      "outputs": []
    },
    {
      "cell_type": "code",
      "source": [
        "a=777\n",
        "def f1():\n",
        "  print(a) #printing a variable value before declaring it as global\n",
        "  global a\n",
        "  a = 999\n",
        "  print(a)\n",
        "\n",
        "f1()\n",
        "\n",
        "#from below error, we will get to know that global variable has to be defined prior then only that variable should be accessed"
      ],
      "metadata": {
        "colab": {
          "base_uri": "https://localhost:8080/",
          "height": 134
        },
        "id": "uAM0ZgnkRq4j",
        "outputId": "7ebdc7ed-ba15-4dc5-ebbc-50af96a16fda"
      },
      "execution_count": null,
      "outputs": [
        {
          "output_type": "error",
          "ename": "SyntaxError",
          "evalue": "ignored",
          "traceback": [
            "\u001b[0;36m  File \u001b[0;32m\"<ipython-input-5-8110f2e4bf37>\"\u001b[0;36m, line \u001b[0;32m4\u001b[0m\n\u001b[0;31m    global a\u001b[0m\n\u001b[0m    ^\u001b[0m\n\u001b[0;31mSyntaxError\u001b[0m\u001b[0;31m:\u001b[0m name 'a' is used prior to global declaration\n"
          ]
        }
      ]
    },
    {
      "cell_type": "code",
      "source": [
        "a=777\n",
        "def f1():\n",
        "  global a\n",
        "  a = 999\n",
        "  print(a)\n",
        "\n",
        "f1()"
      ],
      "metadata": {
        "colab": {
          "base_uri": "https://localhost:8080/"
        },
        "id": "7Ju416GvSNTQ",
        "outputId": "f5bb385a-522e-4fb6-eaa7-2685c1dc68ad"
      },
      "execution_count": null,
      "outputs": [
        {
          "output_type": "stream",
          "name": "stdout",
          "text": [
            "999\n"
          ]
        }
      ]
    },
    {
      "cell_type": "code",
      "source": [
        "a=888\n",
        "def f1():\n",
        "  a=999\n",
        "  print(a)\n",
        "  print(globals().get('a')) #globals func is used to get the value declared globaly for variable a\n",
        "  print(globals()['a'])\n",
        "f1()"
      ],
      "metadata": {
        "colab": {
          "base_uri": "https://localhost:8080/"
        },
        "id": "xzADhtYbgtT1",
        "outputId": "469880f3-882a-4621-afdf-01a48199deb2"
      },
      "execution_count": null,
      "outputs": [
        {
          "output_type": "stream",
          "name": "stdout",
          "text": [
            "999\n",
            "888\n",
            "888\n"
          ]
        }
      ]
    }
  ]
}