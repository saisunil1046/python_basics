{
  "nbformat": 4,
  "nbformat_minor": 0,
  "metadata": {
    "colab": {
      "provenance": [],
      "authorship_tag": "ABX9TyN8EJLxymGlP14BTYhsD0qW"
    },
    "kernelspec": {
      "name": "python3",
      "display_name": "Python 3"
    },
    "language_info": {
      "name": "python"
    }
  },
  "cells": [
    {
      "cell_type": "code",
      "execution_count": null,
      "metadata": {
        "colab": {
          "base_uri": "https://localhost:8080/"
        },
        "id": "WZC0aS5ZljmB",
        "outputId": "0993f21b-3925-41bb-edca-d1ee7ca0f172"
      },
      "outputs": [
        {
          "output_type": "stream",
          "name": "stdout",
          "text": [
            "the splitted list:  ['python', 'is', 'very', 'easy', 'to', 'learn']\n",
            "the type of splitted list:  <class 'list'>\n",
            "python is easy\n",
            "06-04-1991\n",
            "06/04/1991\n"
          ]
        }
      ],
      "source": [
        "#split methods\n",
        "s='python is very easy to learn'\n",
        "l=s.split() # split does splitting based on space(default) and always return type as list\n",
        "print(\"the splitted list: \",l)\n",
        "print(\"the type of splitted list: \", type(l))\n",
        "#join\n",
        "\n",
        "word=['python','is','easy']\n",
        "print(' '.join(word)) #join the list of elements with space\n",
        "dt=['06','04','1991']\n",
        "print('-'.join(dt))\n",
        "print('/'.join(dt))\n"
      ]
    }
  ]
}