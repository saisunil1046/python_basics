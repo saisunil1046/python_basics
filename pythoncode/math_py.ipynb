{
  "nbformat": 4,
  "nbformat_minor": 0,
  "metadata": {
    "colab": {
      "provenance": [],
      "authorship_tag": "ABX9TyNLAldxfv+pu7JGQGHtPd3c"
    },
    "kernelspec": {
      "name": "python3",
      "display_name": "Python 3"
    },
    "language_info": {
      "name": "python"
    }
  },
  "cells": [
    {
      "cell_type": "code",
      "execution_count": null,
      "metadata": {
        "colab": {
          "base_uri": "https://localhost:8080/"
        },
        "id": "s8cboxpR2-qv",
        "outputId": "cee61cf2-d74f-4ece-9655-f9e493cbd777"
      },
      "outputs": [
        {
          "output_type": "stream",
          "name": "stdout",
          "text": [
            "4.0\n",
            "3.141592653589793\n",
            "2.718281828459045\n",
            "3\n",
            "4\n",
            "9.0\n",
            "5.0\n",
            "3.141592653589793\n"
          ]
        }
      ],
      "source": [
        "import math as m # using as for alias\n",
        "from math import * #if we want to import all math functions then we have to use from math import *\n",
        "from math import sqrt as s # we can give alias for member of math module also\n",
        "print(m.sqrt(16))\n",
        "print(m.pi)\n",
        "print(m.e)\n",
        "print(m.floor(3.9))\n",
        "print(m.ceil(3.9))\n",
        "print(m.pow(3,2))\n",
        "\n",
        "print(s(25))\n",
        "print(pi)\n"
      ]
    }
  ]
}